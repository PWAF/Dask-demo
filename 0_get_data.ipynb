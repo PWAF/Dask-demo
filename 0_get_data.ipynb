{
 "cells": [
  {
   "cell_type": "markdown",
   "metadata": {},
   "source": [
    "# Getting up to speed with Dask\n",
    "\n",
    "## Part 0: Getting data\n",
    "\n",
    "We are using the [NYC Taxi data](https://www1.nyc.gov/site/tlc/about/tlc-trip-record-data.page), which contains several publicly-available datasets about taxi and ride-share rides taken in New York City.\n",
    "\n",
    "Data is available from 2009 to 2019, but for this exercise we will use 2019 data only. Take care when using other data, as the schemas in the CSV files changed over the years. Most notably, in mid-2016 latitude and longitude fields were replaced with more generic taxi zones for privacy reasons.\n",
    "\n",
    "Files are hosted in this S3 location: `s3://nyc-tlc/trip data`. Both Dask and Pandas support reading directly from S3 with some slight nuance, but for simplicity we will download the data for the laptop examples (Parts 1 & 2). This requires about 8GB of disk space."
   ]
  },
  {
   "cell_type": "code",
   "execution_count": 1,
   "metadata": {},
   "outputs": [],
   "source": [
    "import s3fs\n",
    "import numpy as np\n",
    "from pathlib import Path"
   ]
  },
  {
   "cell_type": "code",
   "execution_count": 2,
   "metadata": {},
   "outputs": [
    {
     "name": "stdout",
     "output_type": "stream",
     "text": [
      "mkdir: cannot create directory ‘data_path’: File exists\n"
     ]
    }
   ],
   "source": [
    "# change this path if you don't want it here\n",
    "#data_path = Path('data')\n",
    "data_path = '/home/ubuntu/getting-up-to-speed-with-dask/data'\n",
    "%mkdir data_path\n",
    "#data_path.mkdir(exist_ok=True)"
   ]
  },
  {
   "cell_type": "code",
   "execution_count": 3,
   "metadata": {},
   "outputs": [
    {
     "data": {
      "text/plain": [
       "(138,\n",
       " ['nyc-tlc/trip data/yellow_tripdata_2009-01.csv',\n",
       "  'nyc-tlc/trip data/yellow_tripdata_2009-02.csv',\n",
       "  'nyc-tlc/trip data/yellow_tripdata_2009-03.csv',\n",
       "  'nyc-tlc/trip data/yellow_tripdata_2009-04.csv',\n",
       "  'nyc-tlc/trip data/yellow_tripdata_2009-05.csv'],\n",
       " ['nyc-tlc/trip data/yellow_tripdata_2020-02.csv',\n",
       "  'nyc-tlc/trip data/yellow_tripdata_2020-03.csv',\n",
       "  'nyc-tlc/trip data/yellow_tripdata_2020-04.csv',\n",
       "  'nyc-tlc/trip data/yellow_tripdata_2020-05.csv',\n",
       "  'nyc-tlc/trip data/yellow_tripdata_2020-06.csv'])"
      ]
     },
     "execution_count": 3,
     "metadata": {},
     "output_type": "execute_result"
    }
   ],
   "source": [
    "fs = s3fs.S3FileSystem(anon=True)\n",
    "\n",
    "files = fs.glob('s3://nyc-tlc/trip data/yellow_tripdata_*')\n",
    "len(files), files[:5], files[-5:]"
   ]
  },
  {
   "cell_type": "markdown",
   "metadata": {},
   "source": [
    "<br>\n",
    "One file per month, approximately 8GB disk size"
   ]
  },
  {
   "cell_type": "code",
   "execution_count": 4,
   "metadata": {},
   "outputs": [
    {
     "data": {
      "text/plain": [
       "(12, 7.799242459)"
      ]
     },
     "execution_count": 4,
     "metadata": {},
     "output_type": "execute_result"
    }
   ],
   "source": [
    "files_2019 = fs.glob('s3://nyc-tlc/trip data/yellow_tripdata_2019-*.csv')\n",
    "len(files_2019), np.sum([fs.du(f) for f in files_2019]) / 1e9"
   ]
  },
  {
   "cell_type": "code",
   "execution_count": 5,
   "metadata": {},
   "outputs": [
    {
     "data": {
      "text/plain": [
       "'/home/ubuntu/getting-up-to-speed-with-dask'"
      ]
     },
     "execution_count": 5,
     "metadata": {},
     "output_type": "execute_result"
    }
   ],
   "source": [
    "%pwd"
   ]
  },
  {
   "cell_type": "code",
   "execution_count": 6,
   "metadata": {},
   "outputs": [
    {
     "data": {
      "text/plain": [
       "'/home/ubuntu/getting-up-to-speed-with-dask/data'"
      ]
     },
     "execution_count": 6,
     "metadata": {},
     "output_type": "execute_result"
    }
   ],
   "source": [
    "data_path"
   ]
  },
  {
   "cell_type": "code",
   "execution_count": 7,
   "metadata": {},
   "outputs": [
    {
     "name": "stdout",
     "output_type": "stream",
     "text": [
      "yellow_tripdata_2019-01.csv\n",
      "yellow_tripdata_2019-02.csv\n",
      "yellow_tripdata_2019-03.csv\n",
      "yellow_tripdata_2019-04.csv\n",
      "yellow_tripdata_2019-05.csv\n",
      "yellow_tripdata_2019-06.csv\n",
      "yellow_tripdata_2019-07.csv\n",
      "yellow_tripdata_2019-08.csv\n",
      "yellow_tripdata_2019-09.csv\n",
      "yellow_tripdata_2019-10.csv\n",
      "yellow_tripdata_2019-11.csv\n",
      "yellow_tripdata_2019-12.csv\n",
      "CPU times: user 26.8 s, sys: 22.8 s, total: 49.6 s\n",
      "Wall time: 2min 15s\n"
     ]
    }
   ],
   "source": [
    "%%time\n",
    "\n",
    "def download_file(f):\n",
    "    fs.get(f, data_path+'/'+Path(f).name)\n",
    "\n",
    "for f in files_2019:\n",
    "    print(Path(f).name)\n",
    "    download_file(f)"
   ]
  },
  {
   "cell_type": "markdown",
   "metadata": {},
   "source": [
    "# Dask sneak peak!\n",
    "\n",
    "You can parallelize this file copy using [dask.bag](https://docs.dask.org/en/latest/bag.html)"
   ]
  },
  {
   "cell_type": "code",
   "execution_count": 8,
   "metadata": {},
   "outputs": [],
   "source": [
    "import dask.bag as db"
   ]
  },
  {
   "cell_type": "code",
   "execution_count": 9,
   "metadata": {},
   "outputs": [
    {
     "name": "stdout",
     "output_type": "stream",
     "text": [
      "CPU times: user 181 ms, sys: 315 ms, total: 496 ms\n",
      "Wall time: 38.5 s\n"
     ]
    }
   ],
   "source": [
    "%%time\n",
    "_ = db.from_sequence(files_2019).map(download_file).compute()"
   ]
  },
  {
   "cell_type": "code",
   "execution_count": 10,
   "metadata": {},
   "outputs": [
    {
     "data": {
      "text/plain": [
       "['nyc-tlc/trip data/yellow_tripdata_2019-01.csv',\n",
       " 'nyc-tlc/trip data/yellow_tripdata_2019-02.csv',\n",
       " 'nyc-tlc/trip data/yellow_tripdata_2019-03.csv',\n",
       " 'nyc-tlc/trip data/yellow_tripdata_2019-04.csv',\n",
       " 'nyc-tlc/trip data/yellow_tripdata_2019-05.csv',\n",
       " 'nyc-tlc/trip data/yellow_tripdata_2019-06.csv',\n",
       " 'nyc-tlc/trip data/yellow_tripdata_2019-07.csv',\n",
       " 'nyc-tlc/trip data/yellow_tripdata_2019-08.csv',\n",
       " 'nyc-tlc/trip data/yellow_tripdata_2019-09.csv',\n",
       " 'nyc-tlc/trip data/yellow_tripdata_2019-10.csv',\n",
       " 'nyc-tlc/trip data/yellow_tripdata_2019-11.csv',\n",
       " 'nyc-tlc/trip data/yellow_tripdata_2019-12.csv']"
      ]
     },
     "execution_count": 10,
     "metadata": {},
     "output_type": "execute_result"
    }
   ],
   "source": [
    "files_2019"
   ]
  },
  {
   "cell_type": "code",
   "execution_count": 11,
   "metadata": {},
   "outputs": [
    {
     "data": {
      "text/plain": [
       "\u001b[0;31mSignature:\u001b[0m \u001b[0mdownload_file\u001b[0m\u001b[0;34m(\u001b[0m\u001b[0mf\u001b[0m\u001b[0;34m)\u001b[0m\u001b[0;34m\u001b[0m\u001b[0;34m\u001b[0m\u001b[0m\n",
       "\u001b[0;31mDocstring:\u001b[0m <no docstring>\n",
       "\u001b[0;31mFile:\u001b[0m      ~/getting-up-to-speed-with-dask/<timed exec>\n",
       "\u001b[0;31mType:\u001b[0m      function\n"
      ]
     },
     "metadata": {},
     "output_type": "display_data"
    }
   ],
   "source": [
    "download_file?"
   ]
  },
  {
   "cell_type": "code",
   "execution_count": null,
   "metadata": {},
   "outputs": [],
   "source": []
  }
 ],
 "metadata": {
  "kernelspec": {
   "display_name": "Python 3",
   "language": "python",
   "name": "python3"
  },
  "language_info": {
   "codemirror_mode": {
    "name": "ipython",
    "version": 3
   },
   "file_extension": ".py",
   "mimetype": "text/x-python",
   "name": "python",
   "nbconvert_exporter": "python",
   "pygments_lexer": "ipython3",
   "version": "3.7.9"
  }
 },
 "nbformat": 4,
 "nbformat_minor": 4
}
